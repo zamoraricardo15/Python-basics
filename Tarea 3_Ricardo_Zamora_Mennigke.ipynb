{
 "cells": [
  {
   "cell_type": "markdown",
   "metadata": {},
   "source": [
    "#Tarea 3"
   ]
  },
  {
   "cell_type": "markdown",
   "metadata": {},
   "source": [
    "#Ricardo Zamora Mennigke"
   ]
  },
  {
   "cell_type": "markdown",
   "metadata": {},
   "source": [
    "#Ejercicio 1\n",
    "##Tres atributos A, B, y C (retorna menor cuadrado, mayor cubo, producto tres y suma cosenos)"
   ]
  },
  {
   "cell_type": "code",
   "execution_count": 1,
   "metadata": {},
   "outputs": [
    {
     "name": "stdout",
     "output_type": "stream",
     "text": [
      "Punto: (2, 3, 4)\n",
      "Punto: (-5, 6, 7)\n"
     ]
    }
   ],
   "source": [
    "import math\n",
    "\n",
    "class Punto:\n",
    "    def __init__(self, A = 0, B = 0, C = 0): # Constructor\n",
    "        self.A = A\n",
    "        self.B = B\n",
    "        self.C = C\n",
    "    def cambiar(self, A, B, C): #Cambiar inicial\n",
    "        self.A = float(A)\n",
    "        self.B = float(B)\n",
    "        self.C = float(C)\n",
    "    def menor_cuadrado(self): #indica el menor y lo estima al cuadrado\n",
    "        if (self.A <= self.B and self.A <= self.C):\n",
    "            return((self.A)**2)\n",
    "        elif self.B <= self.C:\n",
    "            return((self.B)**2)\n",
    "        else:\n",
    "            return((self.C)**2)\n",
    "    def mayor_cubo(self): #indica el mayor y lo estima al cubo\n",
    "        if (self.A >= self.B and self.A >= self.C):\n",
    "            return((self.A)**3)\n",
    "        elif self.B >= self.C:\n",
    "            return((self.B)**3)\n",
    "        else:\n",
    "            return((self.C)**3)\n",
    "    def producto_abc(self): #producto de los tres\n",
    "        productocosenos = (self.A*self.B*self.C)\n",
    "        return(productocosenos)\n",
    "    def suma_cosenos(self):  #estimacion de suma cosenos\n",
    "        sumacosenos = ((math.cos(self.A)) + (math.cos(self.B)) + (math.cos(self.C)))\n",
    "        return(sumacosenos)\n",
    "    def __str__(self):\n",
    "        return \"Punto: (%i, %i, %i)\" % (self.A,self.B, self.C)\n",
    "    \n",
    "Punto1 = Punto(2,3, 4)\n",
    "Punto2 = Punto(-5,6, 7)\n",
    "print(Punto1)\n",
    "print(Punto2)"
   ]
  },
  {
   "cell_type": "code",
   "execution_count": 3,
   "metadata": {},
   "outputs": [
    {
     "data": {
      "text/plain": [
       "4"
      ]
     },
     "execution_count": 3,
     "metadata": {},
     "output_type": "execute_result"
    }
   ],
   "source": [
    "Punto1.menor_cuadrado()"
   ]
  },
  {
   "cell_type": "code",
   "execution_count": 4,
   "metadata": {},
   "outputs": [
    {
     "data": {
      "text/plain": [
       "64"
      ]
     },
     "execution_count": 4,
     "metadata": {},
     "output_type": "execute_result"
    }
   ],
   "source": [
    "Punto1.mayor_cubo()"
   ]
  },
  {
   "cell_type": "code",
   "execution_count": 5,
   "metadata": {},
   "outputs": [
    {
     "data": {
      "text/plain": [
       "24"
      ]
     },
     "execution_count": 5,
     "metadata": {},
     "output_type": "execute_result"
    }
   ],
   "source": [
    "Punto1.producto_abc()"
   ]
  },
  {
   "cell_type": "code",
   "execution_count": 6,
   "metadata": {},
   "outputs": [
    {
     "data": {
      "text/plain": [
       "-2.0597829540111996"
      ]
     },
     "execution_count": 6,
     "metadata": {},
     "output_type": "execute_result"
    }
   ],
   "source": [
    "Punto1.suma_cosenos()"
   ]
  },
  {
   "cell_type": "code",
   "execution_count": 7,
   "metadata": {},
   "outputs": [
    {
     "data": {
      "text/plain": [
       "25"
      ]
     },
     "execution_count": 7,
     "metadata": {},
     "output_type": "execute_result"
    }
   ],
   "source": [
    "Punto2.menor_cuadrado()"
   ]
  },
  {
   "cell_type": "code",
   "execution_count": 8,
   "metadata": {},
   "outputs": [
    {
     "data": {
      "text/plain": [
       "343"
      ]
     },
     "execution_count": 8,
     "metadata": {},
     "output_type": "execute_result"
    }
   ],
   "source": [
    "Punto2.mayor_cubo()"
   ]
  },
  {
   "cell_type": "code",
   "execution_count": 9,
   "metadata": {},
   "outputs": [
    {
     "data": {
      "text/plain": [
       "-210"
      ]
     },
     "execution_count": 9,
     "metadata": {},
     "output_type": "execute_result"
    }
   ],
   "source": [
    "Punto2.producto_abc()"
   ]
  },
  {
   "cell_type": "code",
   "execution_count": 10,
   "metadata": {},
   "outputs": [
    {
     "data": {
      "text/plain": [
       "1.9977347264568968"
      ]
     },
     "execution_count": 10,
     "metadata": {},
     "output_type": "execute_result"
    }
   ],
   "source": [
    "Punto2.suma_cosenos()"
   ]
  },
  {
   "cell_type": "code",
   "execution_count": 11,
   "metadata": {},
   "outputs": [
    {
     "data": {
      "text/plain": [
       "1089.0"
      ]
     },
     "execution_count": 11,
     "metadata": {},
     "output_type": "execute_result"
    }
   ],
   "source": [
    "Punto1.cambiar(33, 54, 76)\n",
    "Punto1.menor_cuadrado()"
   ]
  },
  {
   "cell_type": "code",
   "execution_count": 12,
   "metadata": {},
   "outputs": [
    {
     "data": {
      "text/plain": [
       "438976.0"
      ]
     },
     "execution_count": 12,
     "metadata": {},
     "output_type": "execute_result"
    }
   ],
   "source": [
    "Punto1.mayor_cubo()"
   ]
  },
  {
   "cell_type": "code",
   "execution_count": 13,
   "metadata": {},
   "outputs": [
    {
     "data": {
      "text/plain": [
       "135432.0"
      ]
     },
     "execution_count": 13,
     "metadata": {},
     "output_type": "execute_result"
    }
   ],
   "source": [
    "Punto1.producto_abc()"
   ]
  },
  {
   "cell_type": "code",
   "execution_count": 14,
   "metadata": {},
   "outputs": [
    {
     "data": {
      "text/plain": [
       "-0.01825524897865194"
      ]
     },
     "execution_count": 14,
     "metadata": {},
     "output_type": "execute_result"
    }
   ],
   "source": [
    "Punto1.suma_cosenos()"
   ]
  },
  {
   "cell_type": "markdown",
   "metadata": {},
   "source": [
    "#Ejercicio 2\n",
    "##Sistema de control para linea aerea"
   ]
  },
  {
   "cell_type": "code",
   "execution_count": 15,
   "metadata": {},
   "outputs": [],
   "source": [
    "##Vuelo\n",
    "class vuelo:   ##define el vuelo\n",
    "    def __init__(self, numero = 0, salida = 0, llegada = 0): ##define atributos del vuelo\n",
    "        self.numero = numero\n",
    "        self.salida = salida\n",
    "        self.llegada = llegada\n",
    "    def info_vuelo(self):  ##arroja informacion del vuelo\n",
    "        infovuelo = str(self.numero) + ' ' + str(self.salida) + ' ' + str(self.llegada)\n",
    "        return infovuelo.title()\n",
    "\n",
    "##Vuelo comercial\n",
    "class vuelocomercial(vuelo):\n",
    "    def __init__(self, numero = 0, salida = 0, llegada = 0, pasajeros = None):\n",
    "        super().__init__(numero, salida, llegada)\n",
    "        if pasajeros == None:\n",
    "            self.__pasajeros = []\n",
    "        else:\n",
    "            self.__pasajeros = pasajeros\n",
    "    @property\n",
    "    def pasajeros(self):\n",
    "        return self.__lista_pasajeros\n",
    "    @pasajeros.setter\n",
    "    def agregar(self, nuevo):\n",
    "        for pasajero in self.pasajeros:\n",
    "            if pasajero.codigo == nuevo.codigo:\n",
    "                return None\n",
    "        self.__pasajeros.append(nuevo)\n",
    "    def eliminar(self, codigo):\n",
    "        for pasajero in self.pasajeros:\n",
    "            if pasajero.codigo == codigo:\n",
    "                self.__pasajeros.pop(pasajero)\n",
    "                return None\n",
    "    def monto_total_vendido(self):\n",
    "        monto = 0\n",
    "        for pasajero in self.pasajeros:\n",
    "            monto = monto + pasajero.preciototal()\n",
    "        return monto\n",
    "    def __str__(self):\n",
    "        s = f\"{super().__str__()}\\nMonto Vendido:{self.monto_total_vendido()}\"\n",
    "        s = s + \"\\n\" + \" Pasajeros \".center(25, '*') + \"\\n\"\n",
    "        for pasajero in self.lista_pasajeros:\n",
    "            s = s + \"*\" * 25 +\"\\n\" + str(pasajero) + \"\\n\"\n",
    "        return s\n",
    "\n",
    "##Vuelo local (USA)\n",
    "class vuelo_local(vuelocomercial):\n",
    "    def __init__(self, numero, salida, llegada, pasajeros):\n",
    "        super().__init__(numero, salida, llegada, pasajeros)\n",
    "        self.minimo_pasajeros = 1\n",
    "    @property\n",
    "    def pasajeros_minimos(self):\n",
    "        return (self.pasajeros_minimos)\n",
    "    def __str__(self):\n",
    "        minimo = super().__str__() + \"\\n\" + self.pasajeros_minimos()\n",
    "        return minimo\n",
    "\n",
    "\n",
    "##Vuelo internacional\n",
    "class vuelo_internacional(vuelocomercial):\n",
    "    def __init__ (self, numero, salida, llegada, pasajeros, pasajeros_minimos):\n",
    "        super().__init__(numero, salida, llegada, pasajeros, pasajeros_minimos)\n",
    "        self.pais_destino = 'CANADA'\n",
    "    @property\n",
    "    def pais_destino(self):\n",
    "        return (self.pais_destino)\n",
    "    def __str__(self):\n",
    "        pais = super().__str__() + \"\\n\" + self.pais_destino()\n",
    "        return pais\n",
    "\n",
    "##Vuelo carga\n",
    "class vuelo_carga(vuelo):\n",
    "    def __init__(self, numero, salida, llegada):\n",
    "        super().__init__(numero, salida, llegada)\n",
    "        self.carga = 1\n",
    "    @property\n",
    "    def carga_maxima(self):\n",
    "        return (self.carga_maxima)\n",
    "    def __str__(self):\n",
    "        cargamaxima = super().__str__() + \"\\n\" + self.carga_maxima\n",
    "        return cargamaxima\n",
    "\n",
    "##Pasajero\n",
    "class pasajero(object):\n",
    "    def __init__(self, codigo, nombre, precio, impuesto, pagototal):\n",
    "        self.__codigo = codigo\n",
    "        self.__nombre = nombre\n",
    "        self.__precio = precio\n",
    "        self.__impuesto = impuesto\n",
    "        self.__pagototal = pagototal \n",
    "    @property\n",
    "    def codigo(self):\n",
    "        return str(self.__codigo)\n",
    "    @property\n",
    "    def nombre (self):\n",
    "        return str(self.__nombre)\n",
    "    @property\n",
    "    def precio(self):\n",
    "        return str(self.__precio)\n",
    "    @property\n",
    "    def impuesto(self):\n",
    "        return str(self.__impuesto)\n",
    "    @property\n",
    "    def pagototal(self):\n",
    "        return str(self.__pagototal)\n",
    "    @codigo.setter\n",
    "    def codigo(self, nuevo_codigo):\n",
    "        self.__codigo  = nuevo_codigo\n",
    "    @nombre.setter\n",
    "    def nombre(self, nuevo_nombre):\n",
    "        self.__nombre = nuevo_nombre\n",
    "    @precio.setter\n",
    "    def precio (self, nuevo_precio):\n",
    "        self.__precio = nuevo_precio\n",
    "    @impuesto.setter\n",
    "    def impuesto (self, nuevo_impuesto):\n",
    "        self.__impuesto = nuevo_impuesto\n",
    "    @pagototal.setter\n",
    "    def pagototal (self, nuevo_pagototal):\n",
    "        self.__pagototal = nuevo_pagototal \n",
    "    def preciototal(self):\n",
    "        if  nofrecuente.__primervuelo == True:\n",
    "            return (float(self.precio) + float(self.impuesto) * float(self.precio)) * - 0.05 + (float(self.precio) + float(self.impuesto) * float(self.precio))\n",
    "        else: \n",
    "            return (float(self.precio) + float(self.impuesto) * float(self.precio)) * - 0.20 + (float(self.precio) + float(self.impuesto) * float(self.precio))\n",
    "    def __str__(self):\n",
    "        return (self.preciototal)\n",
    "\n",
    "##Pasajero frecuente\n",
    "class frecuente(pasajero):\n",
    "    def __init__(self, codigo, nombre, precio, impuesto, pagototal, puntos):\n",
    "        super().__init__(codigo, nombre, precio, impuesto, pagototal)\n",
    "        self.__puntos = puntos\n",
    "    @property\n",
    "    def puntos(self):\n",
    "        return str(self.__puntos)\n",
    "    @puntos.setter\n",
    "    def puntos(self, nuevospuntos):\n",
    "        self.__puntos = nuevospuntos\n",
    "    def __str__(self):\n",
    "        return (self.puntos)\n",
    "\n",
    "##Pasajero no frecuente\n",
    "class nofrecuente (pasajero):\n",
    "    def __init__(self, codigo, nombre, precio, impuesto, pagototal, primervuelo):\n",
    "        super().__init__(codigo, nombre, precio, impuesto, pagototal)\n",
    "        self.__primervuelo = primervuelo\n",
    "    @property\n",
    "    def primervuelo(self):\n",
    "        return str(self.__primervuelo)\n",
    "    @primervuelo.setter\n",
    "    def primervuelo(self, nuevo_primervuelo):\n",
    "        self.__primervuelo = nuevo_primervuelo\n",
    "    def __str__(self):\n",
    "        return (self.primervuelo) "
   ]
  },
  {
   "cell_type": "code",
   "execution_count": 16,
   "metadata": {},
   "outputs": [
    {
     "data": {
      "text/plain": [
       "'3 16 20'"
      ]
     },
     "execution_count": 16,
     "metadata": {},
     "output_type": "execute_result"
    }
   ],
   "source": [
    "vuelo1 = vuelo(3, 16, 20)\n",
    "vuelo1.info_vuelo()"
   ]
  },
  {
   "cell_type": "markdown",
   "metadata": {},
   "source": [
    "#Ejercicio 3\n",
    "##class mi DF() vista en clase"
   ]
  },
  {
   "cell_type": "code",
   "execution_count": 17,
   "metadata": {},
   "outputs": [
    {
     "name": "stdout",
     "output_type": "stream",
     "text": [
      "Empty DataFrame\n",
      "Columns: []\n",
      "Index: [2,4.4,0, -5,9,198, 2,4,-5]\n",
      "   0    1    2\n",
      "0  4  1.0   -3\n",
      "1  2  4.4    0\n",
      "2 -5  9.0  198\n",
      "3  2  4.0   -5\n"
     ]
    }
   ],
   "source": [
    "import os\n",
    "import pandas as pd\n",
    "pasada = os.getcwd()\n",
    "os.chdir(\"C:/Users/rzamoram/Documents/Machine Learning/Programacion en Python/Clase 3\")\n",
    "os.getcwd()\n",
    "ejemplo10 = pd.read_csv(\"Tarea 3_Ricardo_Zamora_Mennigke.csv\", delimiter = ';', decimal = \",\", header = 0, index_col = 0)\n",
    "print(ejemplo10)\n",
    "data = pd.DataFrame(ejemplo10)\n",
    "import pandas as pd\n",
    "import numpy as np\n",
    "\n",
    "class mi_DF():\n",
    "    def __init__(self, DF = pd.DataFrame()):\n",
    "        self.__num_filas = DF.shape[0]\n",
    "        self.__num_columnas = DF.shape[1]\n",
    "        self.__DF = DF\n",
    "    @property\n",
    "    def num_filas(self):\n",
    "        return self.__num_filas\n",
    "    @property\n",
    "    def num_columnas(self):\n",
    "        return self.__num_columnas\n",
    "    @property\n",
    "    def DF(self):\n",
    "        return self.__DF  \n",
    "    def valores(self):\n",
    "        divisibles3 = 0\n",
    "        for i in range(self.num_filas):\n",
    "            for j in range(self.num_columnas):\n",
    "                if self.DF.iloc[i,j] % 2 == 0:\n",
    "                    divisibles3 = divisibles3+1\n",
    "        return {'Divisibles entre 3' : divisibles3}\n",
    "    def DF_diccionario(self, nc):\n",
    "        cor = np.corrcoef(self.DF.iloc[:,nc])\n",
    "        cov = np.cov(self.DF.iloc[:,nc])\n",
    "        return {'Correlacion': cor, 'Covarianza': cov}\n",
    "\n",
    "\n",
    "#datos = mi_DF(pd.DataFrame(data))\n",
    "datos = mi_DF(pd.DataFrame([[4,1,-3],[2,4.4,0],[-5,9,198],[2,4,-5]]))\n",
    "print(datos.DF)"
   ]
  },
  {
   "cell_type": "code",
   "execution_count": 18,
   "metadata": {},
   "outputs": [
    {
     "name": "stdout",
     "output_type": "stream",
     "text": [
      "{'Divisibles entre 3': 6}\n"
     ]
    }
   ],
   "source": [
    "print(datos.valores())"
   ]
  },
  {
   "cell_type": "code",
   "execution_count": 19,
   "metadata": {},
   "outputs": [
    {
     "name": "stdout",
     "output_type": "stream",
     "text": [
      "{'Correlacion': 1.0, 'Covarianza': array(10.90666667)}\n"
     ]
    }
   ],
   "source": [
    "print(datos.DF_diccionario(1))"
   ]
  },
  {
   "cell_type": "markdown",
   "metadata": {},
   "source": [
    "#Ejercicio 4\n",
    "##clase denominada Analisis que tiene como atributo una matriz num´erica tipo numpy"
   ]
  },
  {
   "cell_type": "code",
   "execution_count": 20,
   "metadata": {},
   "outputs": [
    {
     "name": "stdout",
     "output_type": "stream",
     "text": [
      "<class '__main__.Analisis'>\n"
     ]
    }
   ],
   "source": [
    "class Analisis():\n",
    "    def __init__(self, data = np.matrix([])):\n",
    "        self.__M = data\n",
    "        self.__filas = data.shape[0]\n",
    "        self.__columnas = data.shape[1]\n",
    "    @property\n",
    "    def matriz(self):\n",
    "        return self.__matriz\n",
    "    @property\n",
    "    def filas(self):\n",
    "        return self.__filas\n",
    "    @property\n",
    "    def columnas(self):\n",
    "        return self.__columnas\n",
    "    def as_data_frame(self): ##matriz en data frame\n",
    "        return pd.DataFrame(self.M)\n",
    "    def des_estandar(self):  ##desviacion estandar\n",
    "        return self.as_data_frame().std()\n",
    "    def media(self): ##media\n",
    "        return self.as_data_frame().mean()\n",
    "    def mediana(self): ##mediana\n",
    "        return self.as_data_frame().median()\n",
    "    def maximo(self): ##maximo\n",
    "        return self.as_data_frame().max()\n",
    "    def encontar(self):\n",
    "        return self.as_data_frame().where()\n",
    "\n",
    "datos = Analisis(np.array(pd.DataFrame([[4,1,-3],[2,4.4,0],[-5,9,198],[2,4,-5]])))\n",
    "print(Analisis)"
   ]
  }
 ],
 "metadata": {
  "kernelspec": {
   "display_name": "Python 3",
   "language": "python",
   "name": "python3"
  },
  "language_info": {
   "codemirror_mode": {
    "name": "ipython",
    "version": 3
   },
   "file_extension": ".py",
   "mimetype": "text/x-python",
   "name": "python",
   "nbconvert_exporter": "python",
   "pygments_lexer": "ipython3",
   "version": "3.7.4"
  }
 },
 "nbformat": 4,
 "nbformat_minor": 2
}
