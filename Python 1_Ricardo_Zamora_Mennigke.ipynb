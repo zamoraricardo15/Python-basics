{
 "cells": [
  {
   "cell_type": "markdown",
   "metadata": {},
   "source": [
    "#Tarea 1\n",
    "#Ricardo Zamora Mennigke"
   ]
  },
  {
   "cell_type": "markdown",
   "metadata": {},
   "source": [
    "#Ejercicio 1\n",
    "##1. a) >Cual es el resultado?"
   ]
  },
  {
   "cell_type": "code",
   "execution_count": 9,
   "metadata": {},
   "outputs": [
    {
     "name": "stdout",
     "output_type": "stream",
     "text": [
      "1960.4954084936207\n"
     ]
    }
   ],
   "source": [
    "###1\n",
    "import math as mt\n",
    "r=(mt.pi*(5**4))-(mt.sqrt(9))\n",
    "print(r)"
   ]
  },
  {
   "cell_type": "code",
   "execution_count": 10,
   "metadata": {},
   "outputs": [
    {
     "name": "stdout",
     "output_type": "stream",
     "text": [
      "1.8571428571428568\n"
     ]
    }
   ],
   "source": [
    "###2\n",
    "r=mt.fabs(12-17*(2/7)-9)\n",
    "print(r)"
   ]
  },
  {
   "cell_type": "code",
   "execution_count": 12,
   "metadata": {},
   "outputs": [
    {
     "name": "stdout",
     "output_type": "stream",
     "text": [
      "5040\n"
     ]
    }
   ],
   "source": [
    "###3\n",
    "r=mt.factorial(7)\n",
    "print(r)"
   ]
  },
  {
   "cell_type": "code",
   "execution_count": 13,
   "metadata": {},
   "outputs": [
    {
     "name": "stdout",
     "output_type": "stream",
     "text": [
      "1.8294828004351504\n",
      "0.6989700043360187\n",
      "1.7427372337331462\n"
     ]
    }
   ],
   "source": [
    "###4\n",
    "r=mt.log(19,5)\n",
    "print(r)"
   ]
  },
  {
   "cell_type": "code",
   "execution_count": 14,
   "metadata": {},
   "outputs": [
    {
     "name": "stdout",
     "output_type": "stream",
     "text": [
      "0.6989700043360187\n"
     ]
    }
   ],
   "source": [
    "###5\n",
    "r=mt.log(5,10)\n",
    "print(r)"
   ]
  },
  {
   "cell_type": "code",
   "execution_count": 15,
   "metadata": {},
   "outputs": [
    {
     "name": "stdout",
     "output_type": "stream",
     "text": [
      "1.7427372337331462\n"
     ]
    }
   ],
   "source": [
    "###6\n",
    "r=(mt.e**0.555457)\n",
    "print(r)"
   ]
  },
  {
   "cell_type": "code",
   "execution_count": 16,
   "metadata": {},
   "outputs": [
    {
     "name": "stdout",
     "output_type": "stream",
     "text": [
      "0.1255028076845392\n"
     ]
    }
   ],
   "source": [
    "##1.b) Calcule el valor de x\n",
    "y=mt.pi\n",
    "z=4\n",
    "x=(1+y)/(1+2*(z**2))\n",
    "print(x)"
   ]
  },
  {
   "cell_type": "code",
   "execution_count": 17,
   "metadata": {},
   "outputs": [
    {
     "name": "stdout",
     "output_type": "stream",
     "text": [
      "90.05481444321059\n"
     ]
    }
   ],
   "source": [
    "##1.c) Calcule el valor de x\n",
    "x=(-90)\n",
    "y=mt.pi\n",
    "z=mt.sqrt(x**2+y**2)\n",
    "print(z)"
   ]
  },
  {
   "cell_type": "markdown",
   "metadata": {},
   "source": [
    "#Ejercicio 2\n",
    "##Dado x y y como listas"
   ]
  },
  {
   "cell_type": "code",
   "execution_count": 19,
   "metadata": {},
   "outputs": [
    {
     "name": "stdout",
     "output_type": "stream",
     "text": [
      "[1, -5, 31, -1, -9, -1, 0, 18, 90, 3.141592653589793]\n",
      "[1, 9, -3, 1, -99, -10, 2, -11, 0, 2]\n"
     ]
    }
   ],
   "source": [
    "###Listas\n",
    "x=[1,-5,31,-1,-9,-1,0,18,90,mt.pi]\n",
    "y=[1,9,-3,1,-99,-10,2,-11,0,2]\n",
    "print(x)\n",
    "print(y)"
   ]
  },
  {
   "cell_type": "code",
   "execution_count": 20,
   "metadata": {},
   "outputs": [
    {
     "name": "stdout",
     "output_type": "stream",
     "text": [
      "-10.8\n",
      "895.5600000000001\n",
      "29.92590850751235\n"
     ]
    }
   ],
   "source": [
    "###Estadisticas de y\n",
    "import statistics as st\n",
    "print(st.mean(y))\n",
    "print(st.pvariance(y))\n",
    "print(st.pstdev(y))"
   ]
  },
  {
   "cell_type": "code",
   "execution_count": 21,
   "metadata": {},
   "outputs": [
    {
     "name": "stdout",
     "output_type": "stream",
     "text": [
      "12.71415926535898\n",
      "788.7371146151954\n",
      "28.0844639367604\n"
     ]
    }
   ],
   "source": [
    "###Estadisticas de x\n",
    "print(st.mean(x))\n",
    "print(st.pvariance(x))\n",
    "print(st.pstdev(x))"
   ]
  },
  {
   "cell_type": "code",
   "execution_count": 22,
   "metadata": {},
   "outputs": [
    {
     "name": "stdout",
     "output_type": "stream",
     "text": [
      "0.23135287263564386\n"
     ]
    }
   ],
   "source": [
    "###Correlacion x y y\n",
    "import numpy as np\n",
    "print(np.corrcoef(x,y)[0,1])"
   ]
  },
  {
   "cell_type": "code",
   "execution_count": 23,
   "metadata": {},
   "outputs": [
    {
     "name": "stdout",
     "output_type": "stream",
     "text": [
      "[31, -1, -9, -1, 0, 18]\n"
     ]
    }
   ],
   "source": [
    "###Extraer indices del 2 al 7 de x\n",
    "print(x[2:8])"
   ]
  },
  {
   "cell_type": "code",
   "execution_count": 24,
   "metadata": {},
   "outputs": [
    {
     "name": "stdout",
     "output_type": "stream",
     "text": [
      "-3 -11\n"
     ]
    }
   ],
   "source": [
    "###Extraer indices del 2 y 7 de y\n",
    "print(y[2], y[7])"
   ]
  },
  {
   "cell_type": "code",
   "execution_count": 25,
   "metadata": {},
   "outputs": [
    {
     "name": "stdout",
     "output_type": "stream",
     "text": [
      "[-11, 0, 2]\n"
     ]
    }
   ],
   "source": [
    "###Extraer ultimos 3 valores de y\n",
    "print(y[-3:])"
   ]
  },
  {
   "cell_type": "code",
   "execution_count": 26,
   "metadata": {},
   "outputs": [
    {
     "name": "stdout",
     "output_type": "stream",
     "text": [
      "[3.141592653589793, 90, 18, 0, -1, -9, -1, 31, -5, 1]\n"
     ]
    }
   ],
   "source": [
    "###x invertida\n",
    "print(x[:-11:-1])"
   ]
  },
  {
   "cell_type": "markdown",
   "metadata": {},
   "source": [
    "#Ejercicio 3\n",
    "###Tabla de datos en un data frame"
   ]
  },
  {
   "cell_type": "code",
   "execution_count": 27,
   "metadata": {},
   "outputs": [
    {
     "name": "stdout",
     "output_type": "stream",
     "text": [
      "  Genero Peso Edad Nivel Educativo\n",
      "0      M   76   25             Lic\n",
      "1      F   67   23            Bach\n",
      "2      F   55   19            Bach\n",
      "3      F   57   18            Bach\n",
      "4      M   87   56              Dr\n",
      "5      F   48   13             MSc\n"
     ]
    }
   ],
   "source": [
    "import pandas as pd\n",
    "datos = {'Genero':[\"M\", \"F\",\"F\", \"F\",\"M\",\"F\"],\n",
    "         'Peso': [\"76\", \"67\",\"55\",\"57\",\"87\",\"48\"],\n",
    "         'Edad':[\"25\",\"23\",\"19\",\"18\",\"56\",\"13\"],\n",
    "         'Nivel Educativo': [\"Lic\", \"Bach\", \"Bach\", \"Bach\", \"Dr\", \"MSc\"]}\n",
    "tabla = pd.DataFrame(datos)\n",
    "print(tabla)"
   ]
  },
  {
   "cell_type": "markdown",
   "metadata": {},
   "source": [
    "#Ejercicio 4\n",
    "###Tabla de datos en un data frame"
   ]
  },
  {
   "cell_type": "code",
   "execution_count": 29,
   "metadata": {},
   "outputs": [
    {
     "name": "stdout",
     "output_type": "stream",
     "text": [
      "   id calificacion tiempo\n",
      "0   1            B     64\n",
      "1   2            C     85\n",
      "2   3            B     76\n",
      "3   4            A     83\n",
      "4   5            A     81\n",
      "5   6            A     78\n",
      "6   7            C     68\n",
      "7   8            B     82\n",
      "8   9            A     89\n",
      "9  10            B     62\n",
      "<class 'pandas.core.frame.DataFrame'>\n",
      "RangeIndex: 10 entries, 0 to 9\n",
      "Data columns (total 3 columns):\n",
      "id              10 non-null object\n",
      "calificacion    10 non-null object\n",
      "tiempo          10 non-null object\n",
      "dtypes: object(3)\n",
      "memory usage: 368.0+ bytes\n",
      "None\n"
     ]
    }
   ],
   "source": [
    "datos1 = {'id':[\"1\",\"2\",\"3\",\"4\",\"5\",\"6\",\"7\",\"8\",\"9\",\"10\"],\n",
    "          'calificacion':[\"B\",\"C\",\"B\",\"A\",\"A\",\"A\",\"C\",\"B\",\"A\",\"B\"],\n",
    "          'tiempo':[\"64\",\"85\",\"76\",\"83\",\"81\",\"78\",\"68\",\"82\",\"89\",\"62\"]}\n",
    "tabla1 = pd.DataFrame(datos1)\n",
    "\n",
    "print(tabla1)\n",
    "print(tabla1.info())"
   ]
  },
  {
   "cell_type": "markdown",
   "metadata": {},
   "source": [
    "##Ejercicio 5\n",
    "###Realice las operaciones dado x"
   ]
  },
  {
   "cell_type": "code",
   "execution_count": 30,
   "metadata": {},
   "outputs": [
    {
     "name": "stdout",
     "output_type": "stream",
     "text": [
      "6\n"
     ]
    }
   ],
   "source": [
    "###Indices de vector divididos entre 2 son igual a 45\n",
    "x = [24,28,29,18,95,97,90,72,87,85,74,9,40]\n",
    "sumatoria = 0 \n",
    "\n",
    "for elemento in x:\n",
    "    elemento = 90\n",
    "    indice = x.index(elemento)\n",
    "    elemento = elemento + 1 \n",
    "print(indice)"
   ]
  },
  {
   "cell_type": "code",
   "execution_count": 31,
   "metadata": {},
   "outputs": [
    {
     "name": "stdout",
     "output_type": "stream",
     "text": [
      "5\n"
     ]
    }
   ],
   "source": [
    "###Valor mas alto del vector\n",
    "indice2 = x.index(max(x))\n",
    "print(indice2)"
   ]
  },
  {
   "cell_type": "code",
   "execution_count": 32,
   "metadata": {},
   "outputs": [
    {
     "name": "stdout",
     "output_type": "stream",
     "text": [
      "748\n"
     ]
    }
   ],
   "source": [
    "###Suma de valores de lista usando for\n",
    "for elemento in x:\n",
    "    sumatoria = sumatoria + elemento\n",
    "print(sumatoria)"
   ]
  },
  {
   "cell_type": "code",
   "execution_count": 33,
   "metadata": {},
   "outputs": [
    {
     "name": "stdout",
     "output_type": "stream",
     "text": [
      "56194\n"
     ]
    }
   ],
   "source": [
    "###Suma de valores eleveados al cubo usando for\n",
    "sumat=0\n",
    "for elemento in x:\n",
    "    cuadrado = elemento**2\n",
    "    sumat = sumat + cuadrado\n",
    "print(sumat)"
   ]
  },
  {
   "cell_type": "markdown",
   "metadata": {},
   "source": [
    "#Ejercicio 6\n",
    "###Calcule sumatoria usando sum de v1, v2 y v3, y luego empleando for"
   ]
  },
  {
   "cell_type": "code",
   "execution_count": 34,
   "metadata": {},
   "outputs": [
    {
     "name": "stdout",
     "output_type": "stream",
     "text": [
      "69\n",
      "20\n",
      "23.141592653589793\n",
      "69\n",
      "20\n",
      "23.141592653589793\n"
     ]
    }
   ],
   "source": [
    "v1 = [2,7,6,4,52,-2]\n",
    "v2 = [7,5,7,0,1,0]\n",
    "v3 = [2,4,3,5,6, mt.pi]\n",
    "\n",
    "print(sum(v1))\n",
    "print(sum(v2))\n",
    "print(sum(v3))\n",
    "\n",
    "sumatoria1 = 0 \n",
    "sumatoria2 = 0 \n",
    "sumatoria3 = 0 \n",
    "\n",
    "for elemento in v1:\n",
    "    sumatoria1 = sumatoria1 + elemento\n",
    "print(sumatoria1)\n",
    "\n",
    "\n",
    "for elemento in v2:\n",
    "    sumatoria2 = sumatoria2 + elemento\n",
    "print(sumatoria2)\n",
    "\n",
    "\n",
    "for elemento in v3:\n",
    "    sumatoria3 = sumatoria3 + elemento\n",
    "print(sumatoria3)"
   ]
  },
  {
   "cell_type": "markdown",
   "metadata": {},
   "source": [
    "#Ejercicio 7\n",
    "###Construya un diccionario x resumen"
   ]
  },
  {
   "cell_type": "code",
   "execution_count": 35,
   "metadata": {},
   "outputs": [
    {
     "name": "stdout",
     "output_type": "stream",
     "text": [
      "{'Media': 59.705882352941174, 'Moda': 87, 'Maximo': 97, 'Minimo': -3}\n"
     ]
    }
   ],
   "source": [
    "x = [24,28,29,18,95,97,90,72,87,85,74,9,40,91,87,92,-3]\n",
    "resumen = {\"Media\":st.mean(x), \"Moda\":st.mode(x),\"Maximo\":max(x),\"Minimo\":min(x)}\n",
    "print(resumen)"
   ]
  },
  {
   "cell_type": "markdown",
   "metadata": {},
   "source": [
    "#Ejercicio 8\n",
    "###Efectue la operacion entre matrices"
   ]
  },
  {
   "cell_type": "code",
   "execution_count": 36,
   "metadata": {},
   "outputs": [
    {
     "name": "stdout",
     "output_type": "stream",
     "text": [
      "[[2830   34 -120]\n",
      " [ -92  251  154]]\n"
     ]
    }
   ],
   "source": [
    "M = np.matrix([[9,3,4],[1,3,-1]])\n",
    "N = np.matrix([[91,-3],[1,8],[-4,5]])\n",
    "A = M + 31*N.T\n",
    "print(A)"
   ]
  },
  {
   "cell_type": "markdown",
   "metadata": {},
   "source": [
    "#Ejercicio 9\n",
    "###Cargue en un data frame el archivo"
   ]
  },
  {
   "cell_type": "code",
   "execution_count": 37,
   "metadata": {},
   "outputs": [
    {
     "name": "stdout",
     "output_type": "stream",
     "text": [
      "         VelocidadEntrega  Precio  Durabilidad  ImagenProducto  \\\n",
      "Adam                 2.05    0.30         3.45            2.35   \n",
      "Anna                 0.90    1.50         3.15            3.30   \n",
      "Bernard              1.70    2.60         2.85            3.00   \n",
      "Edward               1.35    0.50         3.55            2.95   \n",
      "Emilia               3.00    0.45         4.80            3.90   \n",
      "...                   ...     ...          ...             ...   \n",
      "Teofan               0.30    0.80         3.20            2.50   \n",
      "Teofil               3.05    0.25         4.60            2.40   \n",
      "Teofila              1.00    1.40         2.60            2.50   \n",
      "Teon                 1.55    1.10         3.35            3.40   \n",
      "Teresa               1.25    0.90         4.50            2.50   \n",
      "\n",
      "         ValorEducativo  ServicioRetorno  TamanoPaquete  Calidad Producto  \\\n",
      "Adam                2.4              2.3           2.60              2.10   \n",
      "Anna                2.5              4.0           4.20              2.15   \n",
      "Bernard             4.3              2.7           4.10              2.60   \n",
      "Edward              1.8              2.3           3.90              1.95   \n",
      "Emilia              3.4              4.6           2.25              3.40   \n",
      "...                 ...              ...            ...               ...   \n",
      "Teofan              0.7              2.1           4.20              1.70   \n",
      "Teofil              3.3              2.8           3.55              2.60   \n",
      "Teofila             2.4              2.7           4.20              1.85   \n",
      "Teon                2.6              2.9           4.20              2.15   \n",
      "Teresa              2.2              3.0           3.00              2.20   \n",
      "\n",
      "         NumeroEstrellas  \n",
      "Adam                 1.7  \n",
      "Anna                 2.8  \n",
      "Bernard              3.3  \n",
      "Edward               1.7  \n",
      "Emilia               4.3  \n",
      "...                  ...  \n",
      "Teofan               1.0  \n",
      "Teofil               4.5  \n",
      "Teofila              2.3  \n",
      "Teon                 2.7  \n",
      "Teresa               1.8  \n",
      "\n",
      "[100 rows x 9 columns]\n"
     ]
    }
   ],
   "source": [
    "import os\n",
    "pasada = os.getcwd()\n",
    "os.chdir(\"C:/Users/rzamoram/Documents/Programacion en Python/Clase 1\")\n",
    "os.getcwd()\n",
    "ejemplo = pd.read_csv(\"EjemploAlgoritmosRecomendacion.csv\", delimiter = ';', decimal = \",\",\n",
    "                      header = 0, index_col = 0)\n",
    "print(ejemplo)\n",
    "data = pd.DataFrame(ejemplo)"
   ]
  },
  {
   "cell_type": "code",
   "execution_count": 38,
   "metadata": {},
   "outputs": [
    {
     "name": "stdout",
     "output_type": "stream",
     "text": [
      "         VelocidadEntrega  Precio  Durabilidad  ImagenProducto  \\\n",
      "Adam                 2.05    0.30         3.45            2.35   \n",
      "Anna                 0.90    1.50         3.15            3.30   \n",
      "Bernard              1.70    2.60         2.85            3.00   \n",
      "Edward               1.35    0.50         3.55            2.95   \n",
      "Emilia               3.00    0.45         4.80            3.90   \n",
      "...                   ...     ...          ...             ...   \n",
      "Teofan               0.30    0.80         3.20            2.50   \n",
      "Teofil               3.05    0.25         4.60            2.40   \n",
      "Teofila              1.00    1.40         2.60            2.50   \n",
      "Teon                 1.55    1.10         3.35            3.40   \n",
      "Teresa               1.25    0.90         4.50            2.50   \n",
      "\n",
      "         ValorEducativo  ServicioRetorno  TamanoPaquete  Calidad Producto  \\\n",
      "Adam                2.4              2.3           2.60              2.10   \n",
      "Anna                2.5              4.0           4.20              2.15   \n",
      "Bernard             4.3              2.7           4.10              2.60   \n",
      "Edward              1.8              2.3           3.90              1.95   \n",
      "Emilia              3.4              4.6           2.25              3.40   \n",
      "...                 ...              ...            ...               ...   \n",
      "Teofan              0.7              2.1           4.20              1.70   \n",
      "Teofil              3.3              2.8           3.55              2.60   \n",
      "Teofila             2.4              2.7           4.20              1.85   \n",
      "Teon                2.6              2.9           4.20              2.15   \n",
      "Teresa              2.2              3.0           3.00              2.20   \n",
      "\n",
      "         NumeroEstrellas  \n",
      "Adam                 1.7  \n",
      "Anna                 2.8  \n",
      "Bernard              3.3  \n",
      "Edward               1.7  \n",
      "Emilia               4.3  \n",
      "...                  ...  \n",
      "Teofan               1.0  \n",
      "Teofil               4.5  \n",
      "Teofila              2.3  \n",
      "Teon                 2.7  \n",
      "Teresa               1.8  \n",
      "\n",
      "[100 rows x 9 columns]\n",
      "(100, 9)\n"
     ]
    }
   ],
   "source": [
    "###Dimensiones de la tabla\n",
    "print(data)\n",
    "print(data.shape)"
   ]
  },
  {
   "cell_type": "code",
   "execution_count": 39,
   "metadata": {},
   "outputs": [
    {
     "name": "stdout",
     "output_type": "stream",
     "text": [
      "         VelocidadEntrega  Precio\n",
      "Adam                 2.05    0.30\n",
      "Anna                 0.90    1.50\n",
      "Bernard              1.70    2.60\n",
      "Edward               1.35    0.50\n",
      "Emilia               3.00    0.45\n",
      "...                   ...     ...\n",
      "Teofan               0.30    0.80\n",
      "Teofil               3.05    0.25\n",
      "Teofila              1.00    1.40\n",
      "Teon                 1.55    1.10\n",
      "Teresa               1.25    0.90\n",
      "\n",
      "[100 rows x 2 columns]\n"
     ]
    }
   ],
   "source": [
    "###Primeras 3 columnas usando []\n",
    "print(data[[\"VelocidadEntrega\",\"Precio\"]])"
   ]
  },
  {
   "cell_type": "code",
   "execution_count": 40,
   "metadata": {},
   "outputs": [
    {
     "name": "stdout",
     "output_type": "stream",
     "text": [
      "         VelocidadEntrega  Precio\n",
      "Adam                 2.05    0.30\n",
      "Anna                 0.90    1.50\n",
      "Bernard              1.70    2.60\n",
      "Edward               1.35    0.50\n",
      "Emilia               3.00    0.45\n",
      "...                   ...     ...\n",
      "Teofan               0.30    0.80\n",
      "Teofil               3.05    0.25\n",
      "Teofila              1.00    1.40\n",
      "Teon                 1.55    1.10\n",
      "Teresa               1.25    0.90\n",
      "\n",
      "[100 rows x 2 columns]\n"
     ]
    }
   ],
   "source": [
    "###Primeras 3 columnas usando iloc\n",
    "print(data.iloc[:,0:2])"
   ]
  },
  {
   "cell_type": "code",
   "execution_count": 41,
   "metadata": {},
   "outputs": [
    {
     "name": "stdout",
     "output_type": "stream",
     "text": [
      "         VelocidadEntrega  Precio\n",
      "Adam                 2.05    0.30\n",
      "Anna                 0.90    1.50\n",
      "Bernard              1.70    2.60\n",
      "Edward               1.35    0.50\n",
      "Emilia               3.00    0.45\n",
      "...                   ...     ...\n",
      "Teofan               0.30    0.80\n",
      "Teofil               3.05    0.25\n",
      "Teofila              1.00    1.40\n",
      "Teon                 1.55    1.10\n",
      "Teresa               1.25    0.90\n",
      "\n",
      "[100 rows x 2 columns]\n"
     ]
    }
   ],
   "source": [
    "###Primeras 3 columnas usando loc\n",
    "print(data.loc[:,[\"VelocidadEntrega\",\"Precio\"]])"
   ]
  },
  {
   "cell_type": "code",
   "execution_count": 42,
   "metadata": {},
   "outputs": [
    {
     "name": "stdout",
     "output_type": "stream",
     "text": [
      "<class 'pandas.core.frame.DataFrame'>\n",
      "Index: 100 entries, Adam to Teresa\n",
      "Data columns (total 9 columns):\n",
      "VelocidadEntrega    100 non-null float64\n",
      "Precio              100 non-null float64\n",
      "Durabilidad         100 non-null float64\n",
      "ImagenProducto      100 non-null float64\n",
      "ValorEducativo      100 non-null float64\n",
      "ServicioRetorno     100 non-null float64\n",
      "TamanoPaquete       100 non-null float64\n",
      "Calidad Producto    100 non-null float64\n",
      "NumeroEstrellas     100 non-null float64\n",
      "dtypes: float64(9)\n",
      "memory usage: 7.8+ KB\n",
      "None\n"
     ]
    }
   ],
   "source": [
    "###info de los datos\n",
    "print(data.info())"
   ]
  },
  {
   "cell_type": "code",
   "execution_count": 43,
   "metadata": {},
   "outputs": [
    {
     "name": "stdout",
     "output_type": "stream",
     "text": [
      "       VelocidadEntrega      Precio  Durabilidad  ImagenProducto  \\\n",
      "count        100.000000  100.000000   100.000000      100.000000   \n",
      "mean           1.757500    1.182000     3.947000        2.624000   \n",
      "std            0.660363    0.597829     0.693251        0.565707   \n",
      "min            0.000000    0.100000     2.500000        1.250000   \n",
      "25%            1.250000    0.737500     3.350000        2.287500   \n",
      "50%            1.700000    1.075000     4.025000        2.500000   \n",
      "75%            2.300000    1.612500     4.550000        3.000000   \n",
      "max            3.050000    2.700000     5.000000        4.100000   \n",
      "\n",
      "       ValorEducativo  ServicioRetorno  TamanoPaquete  Calidad Producto  \\\n",
      "count      100.000000       100.000000      100.00000        100.000000   \n",
      "mean         2.916000         2.665000        3.48550          2.385500   \n",
      "std          0.751258         0.770855        0.79262          0.427779   \n",
      "min          0.700000         1.100000        1.85000          1.600000   \n",
      "25%          2.400000         2.200000        2.90000          2.050000   \n",
      "50%          3.000000         2.600000        3.57500          2.425000   \n",
      "75%          3.425000         3.000000        4.16250          2.700000   \n",
      "max          4.600000         4.600000        5.00000          3.400000   \n",
      "\n",
      "       NumeroEstrellas  \n",
      "count       100.000000  \n",
      "mean          3.110000  \n",
      "std           0.898877  \n",
      "min           1.000000  \n",
      "25%           2.400000  \n",
      "50%           3.150000  \n",
      "75%           3.825000  \n",
      "max           5.000000  \n",
      "VelocidadEntrega    1.7575\n",
      "Precio              1.1820\n",
      "Durabilidad         3.9470\n",
      "ImagenProducto      2.6240\n",
      "ValorEducativo      2.9160\n",
      "ServicioRetorno     2.6650\n",
      "TamanoPaquete       3.4855\n",
      "Calidad Producto    2.3855\n",
      "NumeroEstrellas     3.1100\n",
      "dtype: float64\n"
     ]
    }
   ],
   "source": [
    "###Media para todas las variables\n",
    "print(data.describe(include = [np.number]))\n",
    "print(ejemplo.mean())"
   ]
  },
  {
   "cell_type": "markdown",
   "metadata": {},
   "source": [
    "#Ejercicio 10\n",
    "###Cargue en un data frame el archivo"
   ]
  },
  {
   "cell_type": "code",
   "execution_count": 44,
   "metadata": {},
   "outputs": [
    {
     "name": "stdout",
     "output_type": "stream",
     "text": [
      "     tobacco    ldl  adiposity  famhist  typea  obesity  alcohol  age chd\n",
      "sbp                                                                      \n",
      "160    12.00   5.73      23.11  Present     49    25.30    97.20   52  Si\n",
      "144     0.01   4.41      28.61   Absent     55    28.87     2.06   63  Si\n",
      "118     0.08   3.48      32.28  Present     52    29.14     3.81   46  No\n",
      "170     7.50   6.41      38.03  Present     51    31.99    24.26   58  Si\n",
      "134    13.60   3.50      27.78  Present     60    25.99    57.34   49  Si\n",
      "..       ...    ...        ...      ...    ...      ...      ...  ...  ..\n",
      "214     0.40   5.98      31.72   Absent     64    28.45     0.00   58  No\n",
      "182     4.20   4.41      32.10   Absent     52    28.61    18.72   52  Si\n",
      "108     3.00   1.59      15.23   Absent     40    20.09    26.64   55  No\n",
      "118     5.40  11.61      30.79   Absent     64    27.35    23.97   40  No\n",
      "132     0.00   4.82      33.41  Present     62    14.70     0.00   46  Si\n",
      "\n",
      "[462 rows x 9 columns]\n",
      "     tobacco    ldl  adiposity  famhist  typea  obesity  alcohol  age chd\n",
      "sbp                                                                      \n",
      "160    12.00   5.73      23.11  Present     49    25.30    97.20   52  Si\n",
      "144     0.01   4.41      28.61   Absent     55    28.87     2.06   63  Si\n",
      "118     0.08   3.48      32.28  Present     52    29.14     3.81   46  No\n",
      "170     7.50   6.41      38.03  Present     51    31.99    24.26   58  Si\n",
      "134    13.60   3.50      27.78  Present     60    25.99    57.34   49  Si\n",
      "..       ...    ...        ...      ...    ...      ...      ...  ...  ..\n",
      "214     0.40   5.98      31.72   Absent     64    28.45     0.00   58  No\n",
      "182     4.20   4.41      32.10   Absent     52    28.61    18.72   52  Si\n",
      "108     3.00   1.59      15.23   Absent     40    20.09    26.64   55  No\n",
      "118     5.40  11.61      30.79   Absent     64    27.35    23.97   40  No\n",
      "132     0.00   4.82      33.41  Present     62    14.70     0.00   46  Si\n",
      "\n",
      "[462 rows x 9 columns]\n"
     ]
    }
   ],
   "source": [
    "ejemplo1 = pd.read_csv(\"SAheart.csv\", delimiter = ';', decimal = \".\", header = 0, index_col = 0)\n",
    "print(ejemplo1)\n",
    "data1 = pd.DataFrame(ejemplo1)\n",
    "print(data1)"
   ]
  },
  {
   "cell_type": "code",
   "execution_count": 45,
   "metadata": {},
   "outputs": [
    {
     "name": "stdout",
     "output_type": "stream",
     "text": [
      "(462, 9)\n"
     ]
    }
   ],
   "source": [
    "###Dimensiones de la tabla\n",
    "print(data1.shape)"
   ]
  },
  {
   "cell_type": "code",
   "execution_count": 46,
   "metadata": {},
   "outputs": [
    {
     "name": "stdout",
     "output_type": "stream",
     "text": [
      "     tobacco    ldl  adiposity\n",
      "sbp                           \n",
      "160    12.00   5.73      23.11\n",
      "144     0.01   4.41      28.61\n",
      "118     0.08   3.48      32.28\n",
      "170     7.50   6.41      38.03\n",
      "134    13.60   3.50      27.78\n",
      "..       ...    ...        ...\n",
      "214     0.40   5.98      31.72\n",
      "182     4.20   4.41      32.10\n",
      "108     3.00   1.59      15.23\n",
      "118     5.40  11.61      30.79\n",
      "132     0.00   4.82      33.41\n",
      "\n",
      "[462 rows x 3 columns]\n"
     ]
    }
   ],
   "source": [
    "###Primeras 4 columnas usando []\n",
    "print(data1[[\"tobacco\",\"ldl\", \"adiposity\"]])"
   ]
  },
  {
   "cell_type": "code",
   "execution_count": 47,
   "metadata": {},
   "outputs": [
    {
     "name": "stdout",
     "output_type": "stream",
     "text": [
      "     tobacco    ldl  adiposity\n",
      "sbp                           \n",
      "160    12.00   5.73      23.11\n",
      "144     0.01   4.41      28.61\n",
      "118     0.08   3.48      32.28\n",
      "170     7.50   6.41      38.03\n",
      "134    13.60   3.50      27.78\n",
      "..       ...    ...        ...\n",
      "214     0.40   5.98      31.72\n",
      "182     4.20   4.41      32.10\n",
      "108     3.00   1.59      15.23\n",
      "118     5.40  11.61      30.79\n",
      "132     0.00   4.82      33.41\n",
      "\n",
      "[462 rows x 3 columns]\n"
     ]
    }
   ],
   "source": [
    "###Primeras 4 columnas usando iloc\n",
    "print(data1.iloc[:,0:3])"
   ]
  },
  {
   "cell_type": "code",
   "execution_count": 48,
   "metadata": {},
   "outputs": [
    {
     "name": "stdout",
     "output_type": "stream",
     "text": [
      "     tobacco    ldl  adiposity\n",
      "sbp                           \n",
      "160    12.00   5.73      23.11\n",
      "144     0.01   4.41      28.61\n",
      "118     0.08   3.48      32.28\n",
      "170     7.50   6.41      38.03\n",
      "134    13.60   3.50      27.78\n",
      "..       ...    ...        ...\n",
      "214     0.40   5.98      31.72\n",
      "182     4.20   4.41      32.10\n",
      "108     3.00   1.59      15.23\n",
      "118     5.40  11.61      30.79\n",
      "132     0.00   4.82      33.41\n",
      "\n",
      "[462 rows x 3 columns]\n"
     ]
    }
   ],
   "source": [
    "###Primeras 3 columnas usando loc\n",
    "print(data1.loc[:,[\"tobacco\",\"ldl\", \"adiposity\"]])"
   ]
  },
  {
   "cell_type": "code",
   "execution_count": 49,
   "metadata": {},
   "outputs": [
    {
     "name": "stdout",
     "output_type": "stream",
     "text": [
      "<class 'pandas.core.frame.DataFrame'>\n",
      "Int64Index: 462 entries, 160 to 132\n",
      "Data columns (total 9 columns):\n",
      "tobacco      462 non-null float64\n",
      "ldl          462 non-null float64\n",
      "adiposity    462 non-null float64\n",
      "famhist      462 non-null object\n",
      "typea        462 non-null int64\n",
      "obesity      462 non-null float64\n",
      "alcohol      462 non-null float64\n",
      "age          462 non-null int64\n",
      "chd          462 non-null object\n",
      "dtypes: float64(5), int64(2), object(2)\n",
      "memory usage: 36.1+ KB\n",
      "None\n"
     ]
    }
   ],
   "source": [
    "###info de los datos\n",
    "print(data1.info())"
   ]
  },
  {
   "cell_type": "code",
   "execution_count": 50,
   "metadata": {},
   "outputs": [
    {
     "name": "stdout",
     "output_type": "stream",
     "text": [
      "tobacco      508.981173\n",
      "ldl          498.533734\n",
      "adiposity    621.534930\n",
      "typea        775.921430\n",
      "obesity      630.825293\n",
      "alcohol      682.627953\n",
      "age          729.424974\n",
      "dtype: float64\n"
     ]
    }
   ],
   "source": [
    "###Suma de variables cuantitativas\n",
    "data2 = data1.describe(include = [np.number])\n",
    "print(data2.sum())"
   ]
  },
  {
   "cell_type": "markdown",
   "metadata": {},
   "source": [
    "#Ejercicio 11\n",
    "###Suma de numeros enteros elevados al cubo del 1 al 100"
   ]
  },
  {
   "cell_type": "code",
   "execution_count": 52,
   "metadata": {},
   "outputs": [
    {
     "name": "stdout",
     "output_type": "stream",
     "text": [
      "338350\n"
     ]
    }
   ],
   "source": [
    "sumato1 = 0\n",
    "for elemento in range(0,101):\n",
    "    cuadrado = elemento**2\n",
    "    sumato1 = sumato1 + cuadrado\n",
    "print(sumato1)"
   ]
  },
  {
   "cell_type": "markdown",
   "metadata": {},
   "source": [
    "#Ejercicio 12\n",
    "###Sumatoria de numeros comprendidos entre el 1 y el n"
   ]
  },
  {
   "cell_type": "code",
   "execution_count": 53,
   "metadata": {},
   "outputs": [
    {
     "name": "stdout",
     "output_type": "stream",
     "text": [
      "20100\n"
     ]
    }
   ],
   "source": [
    "sumato2 = 0\n",
    "n=200\n",
    "\n",
    "for elemento in range(1,n+1):\n",
    "    sumato2 = sumato2 + elemento\n",
    "print(sumato2)"
   ]
  },
  {
   "cell_type": "markdown",
   "metadata": {},
   "source": [
    "#Ejercicio 13\n",
    "###Sumatoria de numeros pares comprendidos entre el 1 y el n"
   ]
  },
  {
   "cell_type": "code",
   "execution_count": 54,
   "metadata": {},
   "outputs": [
    {
     "name": "stdout",
     "output_type": "stream",
     "text": [
      "56\n"
     ]
    }
   ],
   "source": [
    "sumato3 = 0\n",
    "n=15\n",
    "\n",
    "for elemento in range(2,n+1,2):\n",
    "    sumato3 = sumato3 + elemento\n",
    "print(sumato3)"
   ]
  },
  {
   "cell_type": "markdown",
   "metadata": {},
   "source": [
    "#Ejercicio 14\n",
    "###Sumatoria de numeros multiplos de 5 comprendidos entre el 1 y el n"
   ]
  },
  {
   "cell_type": "code",
   "execution_count": 55,
   "metadata": {},
   "outputs": [
    {
     "name": "stdout",
     "output_type": "stream",
     "text": [
      "30\n"
     ]
    }
   ],
   "source": [
    "sumato4 = 0\n",
    "n=15 \n",
    "\n",
    "for elemento in range(5,n+1,5):\n",
    "    sumato4 = sumato4 + elemento\n",
    "print(sumato4)"
   ]
  },
  {
   "cell_type": "markdown",
   "metadata": {},
   "source": [
    "#Ejercicio 15\n",
    "###Calcule la traza de la matriz"
   ]
  },
  {
   "cell_type": "code",
   "execution_count": 2,
   "metadata": {},
   "outputs": [
    {
     "data": {
      "text/plain": [
       "7"
      ]
     },
     "execution_count": 2,
     "metadata": {},
     "output_type": "execute_result"
    }
   ],
   "source": [
    "import numpy as np\n",
    "\n",
    "A = np.matrix([[9,3,4],[1,0,-1],[4,12,-2]])\n",
    "\n",
    "tam_filas, tam_columnas = A.shape\n",
    "sumas_por_fila = []\n",
    "suma = 0\n",
    "\n",
    "for indice_fila in range(tam_filas):\n",
    "    for indice_columna in range(tam_columnas):\n",
    "        if [indice_fila] == [indice_columna]:\n",
    "            suma = suma +  A[indice_fila, indice_columna]\n",
    "            sumas_por_fila.append(suma)\n",
    "            suma = 0\n",
    "    \n",
    "sum(sumas_por_fila)"
   ]
  },
  {
   "cell_type": "markdown",
   "metadata": {},
   "source": [
    "#Ejercicio 16\n",
    "###Obtenga el centro de la matriz"
   ]
  },
  {
   "cell_type": "code",
   "execution_count": 3,
   "metadata": {},
   "outputs": [
    {
     "name": "stdout",
     "output_type": "stream",
     "text": [
      "[[9 9]\n",
      " [9 9]]\n"
     ]
    }
   ],
   "source": [
    "A = np.matrix([[1,1,1,1],[1,9,9,1],[1,9,9,1],[1,1,1,1]])\n",
    "print(A[1:3,1:3])"
   ]
  }
 ],
 "metadata": {
  "kernelspec": {
   "display_name": "Python 3",
   "language": "python",
   "name": "python3"
  },
  "language_info": {
   "codemirror_mode": {
    "name": "ipython",
    "version": 3
   },
   "file_extension": ".py",
   "mimetype": "text/x-python",
   "name": "python",
   "nbconvert_exporter": "python",
   "pygments_lexer": "ipython3",
   "version": "3.7.4"
  }
 },
 "nbformat": 4,
 "nbformat_minor": 2
}
